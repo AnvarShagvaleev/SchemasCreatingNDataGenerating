{
 "cells": [
  {
   "cell_type": "code",
   "execution_count": 1,
   "metadata": {},
   "outputs": [],
   "source": [
    "from selenium import webdriver as wb"
   ]
  },
  {
   "cell_type": "code",
   "execution_count": 3,
   "metadata": {},
   "outputs": [
    {
     "name": "stderr",
     "output_type": "stream",
     "text": [
      "/var/folders/7g/1dqbz5hx5994z2r91kw1_k2m0000gn/T/ipykernel_38507/2185474621.py:6: DeprecationWarning: executable_path has been deprecated, please pass in a Service object\n",
      "  driver = wb.Chrome('/Users/anvarshagvaleev/Education/DataScience/University/BusinessAnalysis/exercise_1/chromedriver', options=options)\n"
     ]
    },
    {
     "ename": "NoSuchWindowException",
     "evalue": "Message: no such window: target window already closed\nfrom unknown error: web view not found\n  (Session info: chrome=107.0.5304.110)\nStacktrace:\n0   chromedriver                        0x00000001027262c8 chromedriver + 4752072\n1   chromedriver                        0x00000001026a6463 chromedriver + 4228195\n2   chromedriver                        0x0000000102309b18 chromedriver + 441112\n3   chromedriver                        0x00000001022e6210 chromedriver + 295440\n4   chromedriver                        0x000000010236be3d chromedriver + 843325\n5   chromedriver                        0x000000010237f719 chromedriver + 923417\n6   chromedriver                        0x0000000102367b33 chromedriver + 826163\n7   chromedriver                        0x00000001023389fd chromedriver + 633341\n8   chromedriver                        0x000000010233a051 chromedriver + 639057\n9   chromedriver                        0x00000001026f330e chromedriver + 4543246\n10  chromedriver                        0x00000001026f7a88 chromedriver + 4561544\n11  chromedriver                        0x00000001026ff6df chromedriver + 4593375\n12  chromedriver                        0x00000001026f88fa chromedriver + 4565242\n13  chromedriver                        0x00000001026ce2cf chromedriver + 4391631\n14  chromedriver                        0x00000001027175b8 chromedriver + 4691384\n15  chromedriver                        0x0000000102717739 chromedriver + 4691769\n16  chromedriver                        0x000000010272d81e chromedriver + 4782110\n17  libsystem_pthread.dylib             0x00007ff805f81514 _pthread_start + 125\n18  libsystem_pthread.dylib             0x00007ff805f7d02f thread_start + 15\n",
     "output_type": "error",
     "traceback": [
      "\u001b[0;31m---------------------------------------------------------------------------\u001b[0m",
      "\u001b[0;31mNoSuchWindowException\u001b[0m                     Traceback (most recent call last)",
      "Cell \u001b[0;32mIn [3], line 10\u001b[0m\n\u001b[1;32m      6\u001b[0m driver \u001b[39m=\u001b[39m wb\u001b[39m.\u001b[39mChrome(\u001b[39m'\u001b[39m\u001b[39m/Users/anvarshagvaleev/Education/DataScience/University/BusinessAnalysis/exercise_1/chromedriver\u001b[39m\u001b[39m'\u001b[39m, options\u001b[39m=\u001b[39moptions)\n\u001b[1;32m      9\u001b[0m driver\u001b[39m.\u001b[39mget(url\u001b[39m=\u001b[39murl)\n\u001b[0;32m---> 10\u001b[0m driver\u001b[39m.\u001b[39;49mmaximize_window()\n\u001b[1;32m     12\u001b[0m driver\u001b[39m.\u001b[39mclose()\n\u001b[1;32m     13\u001b[0m driver\u001b[39m.\u001b[39mquit()\n",
      "File \u001b[0;32m~/Education/DataScience/University/BusinessAnalysis/exercise_1/venv/lib/python3.9/site-packages/selenium/webdriver/remote/webdriver.py:607\u001b[0m, in \u001b[0;36mWebDriver.maximize_window\u001b[0;34m(self)\u001b[0m\n\u001b[1;32m    603\u001b[0m \u001b[39m\"\"\"\u001b[39;00m\n\u001b[1;32m    604\u001b[0m \u001b[39mMaximizes the current window that webdriver is using\u001b[39;00m\n\u001b[1;32m    605\u001b[0m \u001b[39m\"\"\"\u001b[39;00m\n\u001b[1;32m    606\u001b[0m command \u001b[39m=\u001b[39m Command\u001b[39m.\u001b[39mW3C_MAXIMIZE_WINDOW\n\u001b[0;32m--> 607\u001b[0m \u001b[39mself\u001b[39;49m\u001b[39m.\u001b[39;49mexecute(command, \u001b[39mNone\u001b[39;49;00m)\n",
      "File \u001b[0;32m~/Education/DataScience/University/BusinessAnalysis/exercise_1/venv/lib/python3.9/site-packages/selenium/webdriver/remote/webdriver.py:444\u001b[0m, in \u001b[0;36mWebDriver.execute\u001b[0;34m(self, driver_command, params)\u001b[0m\n\u001b[1;32m    442\u001b[0m response \u001b[39m=\u001b[39m \u001b[39mself\u001b[39m\u001b[39m.\u001b[39mcommand_executor\u001b[39m.\u001b[39mexecute(driver_command, params)\n\u001b[1;32m    443\u001b[0m \u001b[39mif\u001b[39;00m response:\n\u001b[0;32m--> 444\u001b[0m     \u001b[39mself\u001b[39;49m\u001b[39m.\u001b[39;49merror_handler\u001b[39m.\u001b[39;49mcheck_response(response)\n\u001b[1;32m    445\u001b[0m     response[\u001b[39m\"\u001b[39m\u001b[39mvalue\u001b[39m\u001b[39m\"\u001b[39m] \u001b[39m=\u001b[39m \u001b[39mself\u001b[39m\u001b[39m.\u001b[39m_unwrap_value(response\u001b[39m.\u001b[39mget(\u001b[39m\"\u001b[39m\u001b[39mvalue\u001b[39m\u001b[39m\"\u001b[39m, \u001b[39mNone\u001b[39;00m))\n\u001b[1;32m    446\u001b[0m     \u001b[39mreturn\u001b[39;00m response\n",
      "File \u001b[0;32m~/Education/DataScience/University/BusinessAnalysis/exercise_1/venv/lib/python3.9/site-packages/selenium/webdriver/remote/errorhandler.py:249\u001b[0m, in \u001b[0;36mErrorHandler.check_response\u001b[0;34m(self, response)\u001b[0m\n\u001b[1;32m    247\u001b[0m         alert_text \u001b[39m=\u001b[39m value[\u001b[39m\"\u001b[39m\u001b[39malert\u001b[39m\u001b[39m\"\u001b[39m]\u001b[39m.\u001b[39mget(\u001b[39m\"\u001b[39m\u001b[39mtext\u001b[39m\u001b[39m\"\u001b[39m)\n\u001b[1;32m    248\u001b[0m     \u001b[39mraise\u001b[39;00m exception_class(message, screen, stacktrace, alert_text)  \u001b[39m# type: ignore[call-arg]  # mypy is not smart enough here\u001b[39;00m\n\u001b[0;32m--> 249\u001b[0m \u001b[39mraise\u001b[39;00m exception_class(message, screen, stacktrace)\n",
      "\u001b[0;31mNoSuchWindowException\u001b[0m: Message: no such window: target window already closed\nfrom unknown error: web view not found\n  (Session info: chrome=107.0.5304.110)\nStacktrace:\n0   chromedriver                        0x00000001027262c8 chromedriver + 4752072\n1   chromedriver                        0x00000001026a6463 chromedriver + 4228195\n2   chromedriver                        0x0000000102309b18 chromedriver + 441112\n3   chromedriver                        0x00000001022e6210 chromedriver + 295440\n4   chromedriver                        0x000000010236be3d chromedriver + 843325\n5   chromedriver                        0x000000010237f719 chromedriver + 923417\n6   chromedriver                        0x0000000102367b33 chromedriver + 826163\n7   chromedriver                        0x00000001023389fd chromedriver + 633341\n8   chromedriver                        0x000000010233a051 chromedriver + 639057\n9   chromedriver                        0x00000001026f330e chromedriver + 4543246\n10  chromedriver                        0x00000001026f7a88 chromedriver + 4561544\n11  chromedriver                        0x00000001026ff6df chromedriver + 4593375\n12  chromedriver                        0x00000001026f88fa chromedriver + 4565242\n13  chromedriver                        0x00000001026ce2cf chromedriver + 4391631\n14  chromedriver                        0x00000001027175b8 chromedriver + 4691384\n15  chromedriver                        0x0000000102717739 chromedriver + 4691769\n16  chromedriver                        0x000000010272d81e chromedriver + 4782110\n17  libsystem_pthread.dylib             0x00007ff805f81514 _pthread_start + 125\n18  libsystem_pthread.dylib             0x00007ff805f7d02f thread_start + 15\n"
     ]
    }
   ],
   "source": [
    "url = 'https://kz.e-katalog.com/list/122/pr-1358/'\n",
    "\n",
    "\n",
    "options = wb.ChromeOptions()\n",
    "options.add_argument('user-Agent=Mozilla/5.0 (Macintosh; Intel Mac OS X 10_15_7) AppleWebKit/537.36 (KHTML, like Gecko) Chrome/98.0.4758.109 Safari/537.36')\n",
    "driver = wb.Chrome('/Users/anvarshagvaleev/Education/DataScience/University/BusinessAnalysis/exercise_1/chromedriver', options=options)\n",
    "\n",
    "\n",
    "driver.get(url=url)\n",
    "driver.maximize_window()\n",
    "\n",
    "driver.close()\n",
    "driver.quit()"
   ]
  }
 ],
 "metadata": {
  "kernelspec": {
   "display_name": "Python 3.9.7 ('venv': venv)",
   "language": "python",
   "name": "python3"
  },
  "language_info": {
   "codemirror_mode": {
    "name": "ipython",
    "version": 3
   },
   "file_extension": ".py",
   "mimetype": "text/x-python",
   "name": "python",
   "nbconvert_exporter": "python",
   "pygments_lexer": "ipython3",
   "version": "3.9.7"
  },
  "orig_nbformat": 4,
  "vscode": {
   "interpreter": {
    "hash": "40ca304b2191cffc02cb85f40aa0186dcb7185b239ab460b99d4b6058071a0bb"
   }
  }
 },
 "nbformat": 4,
 "nbformat_minor": 2
}
