{
 "cells": [
  {
   "cell_type": "code",
   "execution_count": 4,
   "metadata": {},
   "outputs": [],
   "source": [
    "import sqlite3\n",
    "from sqlalchemy import create_engine\n",
    "import pandas as pd"
   ]
  },
  {
   "cell_type": "code",
   "execution_count": 7,
   "metadata": {},
   "outputs": [],
   "source": [
    "engine = create_engine('sqlite:///shop.db') # подключаемся к БД\n",
    "\n",
    "# Считываем данные\n",
    "categories = pd.read_sql(\n",
    "    \"SELECT * FROM categories\",\n",
    "    con=engine,\n",
    "    index_col='id'\n",
    ")\n",
    "\n",
    "products = pd.read_sql(\n",
    "    \"SELECT * FROM products\",\n",
    "    con=engine,\n",
    "    index_col='id'\n",
    ")\n",
    "\n",
    "sells = pd.read_sql(\n",
    "    \"SELECT * FROM sells\",\n",
    "    con=engine,\n",
    "    index_col='id'\n",
    ")\n",
    "\n",
    "suppliers = pd.read_sql(\n",
    "    \"SELECT * FROM suppliers\",\n",
    "    con=engine,\n",
    "    index_col='id'\n",
    ")\n",
    "\n",
    "sup_to_prod = pd.read_sql(\n",
    "    \"SELECT * FROM sup_to_prod\",\n",
    "    con=engine,\n",
    "    index_col='id'\n",
    ")"
   ]
  },
  {
   "cell_type": "code",
   "execution_count": null,
   "metadata": {},
   "outputs": [],
   "source": []
  }
 ],
 "metadata": {
  "kernelspec": {
   "display_name": "Python 3.9.7 ('venv': venv)",
   "language": "python",
   "name": "python3"
  },
  "language_info": {
   "codemirror_mode": {
    "name": "ipython",
    "version": 3
   },
   "file_extension": ".py",
   "mimetype": "text/x-python",
   "name": "python",
   "nbconvert_exporter": "python",
   "pygments_lexer": "ipython3",
   "version": "3.9.7"
  },
  "orig_nbformat": 4,
  "vscode": {
   "interpreter": {
    "hash": "40ca304b2191cffc02cb85f40aa0186dcb7185b239ab460b99d4b6058071a0bb"
   }
  }
 },
 "nbformat": 4,
 "nbformat_minor": 2
}
